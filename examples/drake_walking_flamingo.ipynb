{
 "cells": [
  {
   "cell_type": "markdown",
   "metadata": {},
   "source": [
    "## Comodo Example\n",
    "This examples, load a basic robot model (i.e. composed only of basic shapes), modifies the links of such a robot model by elongating the legs, define instances of the TSID (Task Based Inverse Dynamics) and Centroidal MPC  controller and simulate the behavior of the robot using drake.  "
   ]
  },
  {
   "cell_type": "code",
   "execution_count": 1,
   "metadata": {},
   "outputs": [],
   "source": [
    "# Comodo import\n",
    "from comodo.drakeSimulator.drakeSimulator import DrakeSimulator\n",
    "from comodo.robotModel.robotModel import RobotModel\n",
    "from comodo.robotModel.createUrdf import createUrdf\n",
    "from comodo.centroidalMPC.centroidalMPC import CentroidalMPC\n",
    "from comodo.centroidalMPC.mpcParameterTuning import MPCParameterTuning\n",
    "from comodo.TSIDController.TSIDParameterTuning import TSIDParameterTuning\n",
    "from comodo.TSIDController.TSIDController import TSIDController"
   ]
  },
  {
   "cell_type": "code",
   "execution_count": 2,
   "metadata": {},
   "outputs": [],
   "source": [
    "# General  import \n",
    "import xml.etree.ElementTree as ET\n",
    "import numpy as np\n",
    "import tempfile\n",
    "import urllib.request\n",
    "import logging"
   ]
  },
  {
   "cell_type": "code",
   "execution_count": 3,
   "metadata": {},
   "outputs": [],
   "source": [
    "# set the logging level\n",
    "logging.getLogger().setLevel(logging.INFO)"
   ]
  },
  {
   "cell_type": "code",
   "execution_count": 4,
   "metadata": {},
   "outputs": [],
   "source": [
    "# Getting stickbot urdf file and convert it to string \n",
    "# urdf_robot_file = tempfile.NamedTemporaryFile(mode=\"w+\")\n",
    "# url = 'https://raw.githubusercontent.com/icub-tech-iit/ergocub-gazebo-simulations/master/models/stickBot/model.urdf'\n",
    "# urllib.request.urlretrieve(url, urdf_robot_file.name)\n",
    "# Load the URDF file\n",
    "file_path = \"/home/wslaniakea/git/legged_gym/resources/robots/flamingo/urdf/flamingo.urdf\"\n",
    "tree = ET.parse(file_path)\n",
    "root = tree.getroot()\n",
    "\n",
    "# Convert the XML tree to a string\n",
    "robot_urdf_string_original = ET.tostring(root)\n",
    "\n",
    "create_urdf_instance = createUrdf(\n",
    "    original_urdf_path=file_path, save_gazebo_plugin=False\n",
    ")"
   ]
  },
  {
   "cell_type": "code",
   "execution_count": 5,
   "metadata": {},
   "outputs": [],
   "source": [
    "# Define parametric links and controlled joints  \n",
    "legs_link_names = []\n",
    "joint_name_list = [\n",
    "\"hip_roll_l\", \"hip_pitch_l\", \"knee_l\", \"ankle_l\", \"feet_l\",\n",
    "\"hip_roll_r\", \"hip_pitch_r\", \"knee_r\", \"ankle_r\", \"feet_r\"\n",
    "]"
   ]
  },
  {
   "cell_type": "code",
   "execution_count": 6,
   "metadata": {},
   "outputs": [],
   "source": [
    "# Define the robot modifications\n",
    "modifications = {}\n",
    "for item in legs_link_names:\n",
    "    left_leg_item = \"l_\" + item\n",
    "    right_leg_item = \"r_\" + item\n",
    "    modifications.update({left_leg_item: 1.2})\n",
    "    modifications.update({right_leg_item: 1.2})\n",
    "# Motors Parameters \n",
    "Im_arms = 1e-3*np.ones(4) # from 0-4\n",
    "Im_legs = 1e-3*np.ones(6) # from 5-10\n",
    "kv_arms = 0.001*np.ones(4) # from 11-14\n",
    "kv_legs = 0.001*np.ones(6) #from 20\n",
    "\n",
    "Im = np.concatenate((Im_arms, Im_arms, Im_legs, Im_legs))\n",
    "kv = np.concatenate((kv_arms, kv_arms, kv_legs, kv_legs))"
   ]
  },
  {
   "cell_type": "code",
   "execution_count": 12,
   "metadata": {},
   "outputs": [
    {
     "ename": "RuntimeError",
     "evalue": ".../casadi/core/mx.cpp:401: Assertion \"in_range(kk.nonzeros(), -sz+ind1, sz+ind1)\" failed:\nOut of bounds error. Got elements in range [17,17], which is outside the range [-10,10).",
     "output_type": "error",
     "traceback": [
      "\u001b[0;31m---------------------------------------------------------------------------\u001b[0m",
      "\u001b[0;31mRuntimeError\u001b[0m                              Traceback (most recent call last)",
      "\u001b[0;32m/tmp/ipykernel_10149/1795896950.py\u001b[0m in \u001b[0;36m?\u001b[0;34m()\u001b[0m\n\u001b[1;32m      5\u001b[0m \u001b[0;34m\u001b[0m\u001b[0m\n\u001b[1;32m      6\u001b[0m \u001b[0;31m# urdf_robot_string = create_urdf_instance.write_urdf_to_file()\u001b[0m\u001b[0;34m\u001b[0m\u001b[0;34m\u001b[0m\u001b[0m\n\u001b[1;32m      7\u001b[0m \u001b[0;31m# create_urdf_instance.reset_modifications()\u001b[0m\u001b[0;34m\u001b[0m\u001b[0;34m\u001b[0m\u001b[0m\n\u001b[1;32m      8\u001b[0m \u001b[0mrobot_model_init\u001b[0m \u001b[0;34m=\u001b[0m \u001b[0mRobotModel\u001b[0m\u001b[0;34m(\u001b[0m\u001b[0murdf_robot_string\u001b[0m\u001b[0;34m,\u001b[0m \u001b[0;34m\"flamingo\"\u001b[0m\u001b[0;34m,\u001b[0m \u001b[0mjoint_name_list\u001b[0m\u001b[0;34m,\u001b[0m \u001b[0mleft_foot\u001b[0m\u001b[0;34m=\u001b[0m\u001b[0;34m\"foot-l_1\"\u001b[0m\u001b[0;34m,\u001b[0m \u001b[0mright_foot\u001b[0m\u001b[0;34m=\u001b[0m\u001b[0;34m\"foot-r_1\"\u001b[0m\u001b[0;34m,\u001b[0m \u001b[0mtorso\u001b[0m\u001b[0;34m=\u001b[0m\u001b[0;34m\"base_link\"\u001b[0m\u001b[0;34m,\u001b[0m \u001b[0mbase_link\u001b[0m\u001b[0;34m=\u001b[0m\u001b[0;34m\"base_link\"\u001b[0m\u001b[0;34m)\u001b[0m\u001b[0;34m\u001b[0m\u001b[0;34m\u001b[0m\u001b[0m\n\u001b[0;32m----> 9\u001b[0;31m \u001b[0ms_des\u001b[0m\u001b[0;34m,\u001b[0m \u001b[0mxyz_rpy\u001b[0m\u001b[0;34m,\u001b[0m \u001b[0mH_b\u001b[0m \u001b[0;34m=\u001b[0m \u001b[0mrobot_model_init\u001b[0m\u001b[0;34m.\u001b[0m\u001b[0mcompute_desired_position_walking\u001b[0m\u001b[0;34m(\u001b[0m\u001b[0;34m)\u001b[0m\u001b[0;34m\u001b[0m\u001b[0;34m\u001b[0m\u001b[0m\n\u001b[0m",
      "\u001b[0;32m~/git/research/comodo/src/comodo/robotModel/robotModel.py\u001b[0m in \u001b[0;36m?\u001b[0;34m(self)\u001b[0m\n\u001b[1;32m    108\u001b[0m         \u001b[0;31m# self.solver.subject_to(cs.abs(self.s[11])> 0.05 )\u001b[0m\u001b[0;34m\u001b[0m\u001b[0;34m\u001b[0m\u001b[0m\n\u001b[1;32m    109\u001b[0m         \u001b[0;31m# self.solver.subject_to(self.s[11]< -0.05)\u001b[0m\u001b[0;34m\u001b[0m\u001b[0;34m\u001b[0m\u001b[0m\n\u001b[1;32m    110\u001b[0m         \u001b[0;31m# self.solver.subject_to(cs.abs(self.s[17])>0.05 )\u001b[0m\u001b[0;34m\u001b[0m\u001b[0;34m\u001b[0m\u001b[0m\n\u001b[1;32m    111\u001b[0m         \u001b[0;31m# self.solver.subject_to(self.s[17]< -0.05)\u001b[0m\u001b[0;34m\u001b[0m\u001b[0;34m\u001b[0m\u001b[0m\n\u001b[0;32m--> 112\u001b[0;31m         \u001b[0mself\u001b[0m\u001b[0;34m.\u001b[0m\u001b[0msolver\u001b[0m\u001b[0;34m.\u001b[0m\u001b[0msubject_to\u001b[0m\u001b[0;34m(\u001b[0m\u001b[0mself\u001b[0m\u001b[0;34m.\u001b[0m\u001b[0ms\u001b[0m\u001b[0;34m[\u001b[0m\u001b[0;36m17\u001b[0m\u001b[0;34m]\u001b[0m \u001b[0;34m==\u001b[0m \u001b[0mdesired_knee\u001b[0m\u001b[0;34m)\u001b[0m\u001b[0;34m\u001b[0m\u001b[0;34m\u001b[0m\u001b[0m\n\u001b[0m\u001b[1;32m    113\u001b[0m         \u001b[0mself\u001b[0m\u001b[0;34m.\u001b[0m\u001b[0msolver\u001b[0m\u001b[0;34m.\u001b[0m\u001b[0msubject_to\u001b[0m\u001b[0;34m(\u001b[0m\u001b[0mself\u001b[0m\u001b[0;34m.\u001b[0m\u001b[0ms\u001b[0m\u001b[0;34m[\u001b[0m\u001b[0;36m11\u001b[0m\u001b[0;34m]\u001b[0m \u001b[0;34m==\u001b[0m \u001b[0mdesired_knee\u001b[0m\u001b[0;34m)\u001b[0m\u001b[0;34m\u001b[0m\u001b[0;34m\u001b[0m\u001b[0m\n\u001b[1;32m    114\u001b[0m         \u001b[0mself\u001b[0m\u001b[0;34m.\u001b[0m\u001b[0msolver\u001b[0m\u001b[0;34m.\u001b[0m\u001b[0msubject_to\u001b[0m\u001b[0;34m(\u001b[0m\u001b[0mself\u001b[0m\u001b[0;34m.\u001b[0m\u001b[0ms\u001b[0m\u001b[0;34m[\u001b[0m\u001b[0;36m3\u001b[0m\u001b[0;34m]\u001b[0m \u001b[0;34m==\u001b[0m \u001b[0melbow\u001b[0m\u001b[0;34m)\u001b[0m\u001b[0;34m\u001b[0m\u001b[0;34m\u001b[0m\u001b[0m\n\u001b[1;32m    115\u001b[0m         \u001b[0mself\u001b[0m\u001b[0;34m.\u001b[0m\u001b[0msolver\u001b[0m\u001b[0;34m.\u001b[0m\u001b[0msubject_to\u001b[0m\u001b[0;34m(\u001b[0m\u001b[0mself\u001b[0m\u001b[0;34m.\u001b[0m\u001b[0ms\u001b[0m\u001b[0;34m[\u001b[0m\u001b[0;36m7\u001b[0m\u001b[0;34m]\u001b[0m \u001b[0;34m==\u001b[0m \u001b[0melbow\u001b[0m\u001b[0;34m)\u001b[0m\u001b[0;34m\u001b[0m\u001b[0;34m\u001b[0m\u001b[0m\n",
      "\u001b[0;32m~/miniforge3/envs/comodo/lib/python3.10/site-packages/casadi/casadi.py\u001b[0m in \u001b[0;36m?\u001b[0;34m(self, s)\u001b[0m\n\u001b[1;32m  16294\u001b[0m     \u001b[0;32mdef\u001b[0m \u001b[0m__getitem__\u001b[0m\u001b[0;34m(\u001b[0m\u001b[0mself\u001b[0m\u001b[0;34m,\u001b[0m \u001b[0ms\u001b[0m\u001b[0;34m)\u001b[0m\u001b[0;34m:\u001b[0m\u001b[0;34m\u001b[0m\u001b[0;34m\u001b[0m\u001b[0m\n\u001b[1;32m  16295\u001b[0m           \u001b[0;32mif\u001b[0m \u001b[0misinstance\u001b[0m\u001b[0;34m(\u001b[0m\u001b[0ms\u001b[0m\u001b[0;34m,\u001b[0m \u001b[0mtuple\u001b[0m\u001b[0;34m)\u001b[0m \u001b[0;32mand\u001b[0m \u001b[0mlen\u001b[0m\u001b[0;34m(\u001b[0m\u001b[0ms\u001b[0m\u001b[0;34m)\u001b[0m\u001b[0;34m==\u001b[0m\u001b[0;36m2\u001b[0m\u001b[0;34m:\u001b[0m\u001b[0;34m\u001b[0m\u001b[0;34m\u001b[0m\u001b[0m\n\u001b[1;32m  16296\u001b[0m             \u001b[0;32mif\u001b[0m \u001b[0ms\u001b[0m\u001b[0;34m[\u001b[0m\u001b[0;36m1\u001b[0m\u001b[0;34m]\u001b[0m \u001b[0;32mis\u001b[0m \u001b[0;32mNone\u001b[0m\u001b[0;34m:\u001b[0m \u001b[0;32mraise\u001b[0m \u001b[0mTypeError\u001b[0m\u001b[0;34m(\u001b[0m\u001b[0;34m\"Cannot slice with None\"\u001b[0m\u001b[0;34m)\u001b[0m\u001b[0;34m\u001b[0m\u001b[0;34m\u001b[0m\u001b[0m\n\u001b[1;32m  16297\u001b[0m             \u001b[0;32mreturn\u001b[0m \u001b[0mself\u001b[0m\u001b[0;34m.\u001b[0m\u001b[0mget\u001b[0m\u001b[0;34m(\u001b[0m\u001b[0;32mFalse\u001b[0m\u001b[0;34m,\u001b[0m \u001b[0ms\u001b[0m\u001b[0;34m[\u001b[0m\u001b[0;36m0\u001b[0m\u001b[0;34m]\u001b[0m\u001b[0;34m,\u001b[0m \u001b[0ms\u001b[0m\u001b[0;34m[\u001b[0m\u001b[0;36m1\u001b[0m\u001b[0;34m]\u001b[0m\u001b[0;34m)\u001b[0m\u001b[0;34m\u001b[0m\u001b[0;34m\u001b[0m\u001b[0m\n\u001b[0;32m> 16298\u001b[0;31m           \u001b[0;32mreturn\u001b[0m \u001b[0mself\u001b[0m\u001b[0;34m.\u001b[0m\u001b[0mget\u001b[0m\u001b[0;34m(\u001b[0m\u001b[0;32mFalse\u001b[0m\u001b[0;34m,\u001b[0m \u001b[0ms\u001b[0m\u001b[0;34m)\u001b[0m\u001b[0;34m\u001b[0m\u001b[0;34m\u001b[0m\u001b[0m\n\u001b[0m",
      "\u001b[0;32m~/miniforge3/envs/comodo/lib/python3.10/site-packages/casadi/casadi.py\u001b[0m in \u001b[0;36m?\u001b[0;34m(self, *args)\u001b[0m\n\u001b[1;32m  15568\u001b[0m \u001b[0;34m\u001b[0m\u001b[0m\n\u001b[1;32m  15569\u001b[0m \u001b[0;34m\u001b[0m\u001b[0m\n\u001b[1;32m  15570\u001b[0m \u001b[0;34m\u001b[0m\u001b[0m\n\u001b[1;32m  15571\u001b[0m         \"\"\"\n\u001b[0;32m> 15572\u001b[0;31m         \u001b[0;32mreturn\u001b[0m \u001b[0m_casadi\u001b[0m\u001b[0;34m.\u001b[0m\u001b[0mMX_get\u001b[0m\u001b[0;34m(\u001b[0m\u001b[0mself\u001b[0m\u001b[0;34m,\u001b[0m \u001b[0;34m*\u001b[0m\u001b[0margs\u001b[0m\u001b[0;34m)\u001b[0m\u001b[0;34m\u001b[0m\u001b[0;34m\u001b[0m\u001b[0m\n\u001b[0m",
      "\u001b[0;31mRuntimeError\u001b[0m: .../casadi/core/mx.cpp:401: Assertion \"in_range(kk.nonzeros(), -sz+ind1, sz+ind1)\" failed:\nOut of bounds error. Got elements in range [17,17], which is outside the range [-10,10)."
     ]
    }
   ],
   "source": [
    "# Modify the robot model and initialize\n",
    "# create_urdf_instance.modify_lengths(modifications)\n",
    "with open(file_path, \"r\") as file:\n",
    "    urdf_robot_string = file.read()\n",
    "\n",
    "# urdf_robot_string = create_urdf_instance.write_urdf_to_file()\n",
    "# create_urdf_instance.reset_modifications()\n",
    "robot_model_init = RobotModel(urdf_robot_string, \"flamingo\", joint_name_list, left_foot=\"foot-l_1\", right_foot=\"foot-r_1\", torso=\"base_link\", base_link=\"base_link\")\n",
    "s_des, xyz_rpy, H_b = robot_model_init.compute_desired_position_walking()"
   ]
  },
  {
   "cell_type": "code",
   "execution_count": 8,
   "metadata": {},
   "outputs": [
    {
     "name": "stderr",
     "output_type": "stream",
     "text": [
      "INFO:root:Visualisation for drake via meshcat can be accessd via the url output from the execution.\n",
      "INFO:drake:Meshcat listening for connections at http://localhost:7000\n",
      "WARNING:root:NotImplementedWarning: Motor parameters are currently ignored.\n",
      "WARNING:drake:Rigid (non-deformable) half spaces are not currently supported for deformable contact; registration is allowed, but no contact data will be reported.\n",
      "WARNING:drake:Meshcat does not display HalfSpace geometry (yet).\n"
     ]
    }
   ],
   "source": [
    "# Define simulator and initial position\n",
    "drake_instance = DrakeSimulator()\n",
    "drake_instance.set_visualize_robot_flag(True)\n",
    "drake_instance.load_model(robot_model_init, s=s_des, xyz_rpy=xyz_rpy, kv_motors=kv, Im=Im)\n",
    "s, ds, tau = drake_instance.get_state()\n",
    "t = drake_instance.get_simulation_time()\n",
    "H_b = drake_instance.get_base()\n",
    "# beware of the velocity ordering\n",
    "w_b = drake_instance.get_base_velocity()"
   ]
  },
  {
   "cell_type": "code",
   "execution_count": 9,
   "metadata": {},
   "outputs": [
    {
     "name": "stdout",
     "output_type": "stream",
     "text": [
      "[DEBUG] [2024-02-23 18:41:40.815] [thread: 3840] [blf] [StdImplementation::getParameterPrivate] Parameter named 'verbosity' not found.\n",
      "[INFO] [2024-02-23 18:41:40.816] [thread: 3840] [blf] [QPTSID::initialize] 'verbosity' not found. The following parameter will be used 'false'.\n",
      "[DEBUG] [2024-02-23 18:41:40.851] [thread: 3840] [blf] [StdImplementation::getParameterPrivate] Parameter named 'ipopt_tolerance' not found.\n",
      "[INFO] [2024-02-23 18:41:40.851] [thread: 3840] [blf] [CentroidalMPC::Impl::loadParameters] Unable to load the parameter named 'ipopt_tolerance'. The default one will be used '1e-08'.\n",
      "[DEBUG] [2024-02-23 18:41:40.851] [thread: 3840] [blf] [StdImplementation::getParameterPrivate] Parameter named 'ipopt_max_iteration' not found.\n",
      "[INFO] [2024-02-23 18:41:40.851] [thread: 3840] [blf] [CentroidalMPC::Impl::loadParameters] Unable to load the parameter named 'ipopt_max_iteration'. The default one will be used '3000'.\n",
      "[DEBUG] [2024-02-23 18:41:40.851] [thread: 3840] [blf] [StdImplementation::getParameterPrivate] Parameter named 'solver_verbosity' not found.\n",
      "[INFO] [2024-02-23 18:41:40.851] [thread: 3840] [blf] [CentroidalMPC::Impl::loadParameters] Unable to load the parameter named 'solver_verbosity'. The default one will be used '0'.\n",
      "[DEBUG] [2024-02-23 18:41:40.851] [thread: 3840] [blf] [StdImplementation::getParameterPrivate] Parameter named 'is_warm_start_enabled' not found.\n",
      "[INFO] [2024-02-23 18:41:40.851] [thread: 3840] [blf] [CentroidalMPC::Impl::loadParameters] Unable to load the parameter named 'is_warm_start_enabled'. The default one will be used 'false'.\n",
      "[DEBUG] [2024-02-23 18:41:40.851] [thread: 3840] [blf] [StdImplementation::getParameterPrivate] Parameter named 'is_cse_enabled' not found.\n",
      "[INFO] [2024-02-23 18:41:40.851] [thread: 3840] [blf] [CentroidalMPC::Impl::loadParameters] Unable to load the parameter named 'is_cse_enabled'. The default one will be used 'false'.\n",
      "[DEBUG] [2024-02-23 18:41:41.112] [thread: 3840] [blf] [StdImplementation::getParameterPrivate] Parameter named 'interpolation_method' not found.\n",
      "[INFO] [2024-02-23 18:41:41.112] [thread: 3840] [blf] [SwingFootPlanner::initialize] The parameter named 'interpolation_method' not found. The 'min_acceleration' method will be used.\n",
      "[DEBUG] [2024-02-23 18:41:41.113] [thread: 3840] [blf] [StdImplementation::getParameterPrivate] Parameter named 'interpolation_method' not found.\n",
      "[INFO] [2024-02-23 18:41:41.113] [thread: 3840] [blf] [SwingFootPlanner::initialize] The parameter named 'interpolation_method' not found. The 'min_acceleration' method will be used.\n"
     ]
    }
   ],
   "source": [
    "# Define the controller parameters  and instantiate the controller\n",
    "# Controller Parameters\n",
    "tsid_parameter = TSIDParameterTuning()\n",
    "mpc_parameters = MPCParameterTuning()\n",
    "\n",
    "# TSID Instance\n",
    "TSID_controller_instance = TSIDController(frequency=0.01, robot_model=robot_model_init)\n",
    "TSID_controller_instance.define_tasks(tsid_parameter)\n",
    "TSID_controller_instance.set_state_with_base(s, ds, H_b, w_b, t)\n",
    "\n",
    "# MPC Instance\n",
    "step_length = 0.1\n",
    "mpc = CentroidalMPC(robot_model=robot_model_init, step_length=step_length)\n",
    "mpc.intialize_mpc(mpc_parameters=mpc_parameters)\n",
    "\n",
    "# Set desired quantities\n",
    "mpc.configure(s_init=s_des, H_b_init=H_b)\n",
    "TSID_controller_instance.compute_com_position()\n",
    "mpc.define_test_com_traj(TSID_controller_instance.COM.toNumPy())\n",
    "\n",
    "# TODO: Set initial robot state and plan trajectories \n",
    "drake_instance.step(1)\n",
    "\n",
    "# Reading the state \n",
    "s, ds, tau = drake_instance.get_state()\n",
    "H_b = drake_instance.get_base()\n",
    "w_b = drake_instance.get_base_velocity()\n",
    "t = drake_instance.get_simulation_time()\n",
    "\n",
    "# MPC\n",
    "mpc.set_state_with_base(s=s, s_dot=ds, H_b=H_b, w_b=w_b, t=t)\n",
    "mpc.initialize_centroidal_integrator(s=s, s_dot=ds, H_b=H_b, w_b=w_b, t=t)\n",
    "mpc_output = mpc.plan_trajectory()"
   ]
  },
  {
   "cell_type": "code",
   "execution_count": 10,
   "metadata": {},
   "outputs": [],
   "source": [
    "# Set loop variables \n",
    "TIME_TH = 20.0\n",
    "\n",
    "# Define number of steps\n",
    "n_step = int(\n",
    "    TSID_controller_instance.frequency / drake_instance.get_simulation_frequency()\n",
    ")\n",
    "n_step_mpc_tsid = int(mpc.get_frequency_seconds() / TSID_controller_instance.frequency)\n",
    "\n",
    "counter = 0\n",
    "mpc_success = True\n",
    "energy_tot = 0.0\n",
    "succeded_controller = True"
   ]
  },
  {
   "cell_type": "code",
   "execution_count": 11,
   "metadata": {},
   "outputs": [
    {
     "name": "stderr",
     "output_type": "stream",
     "text": [
      "ERROR:root:MultibodyPlant's discrete update solver failed to converge at simulation time = 2.611 with discrete update period = 0.001. This usually means that the plant's discrete update period is too large to resolve the system's dynamics for the given simulation conditions. This is often the case during abrupt collisions or during complex and fast changing contact configurations. Another common cause is the use of high gains in the simulation of closed loop systems. These might cause numerical instabilities given our discrete solver uses an explicit treatment of actuation inputs. Possible solutions include:\n",
      "  1. reduce the discrete update period set at construction,\n",
      "  2. decrease the high gains in your controller whenever possible,\n",
      "  3. switch to a continuous model (discrete update period is zero),      though this might affect the simulation run time.\n"
     ]
    }
   ],
   "source": [
    "# Simulation-control loop\n",
    "if  drake_instance.visualize_robot_flag:\n",
    "    drake_instance.meshcat.StartRecording()\n",
    "while t < TIME_TH:\n",
    "    \n",
    "    # Reading robot state from simulator\n",
    "    s, ds, tau = drake_instance.get_state()\n",
    "    energy_i = np.linalg.norm(tau)\n",
    "    H_b = drake_instance.get_base()\n",
    "    w_b = drake_instance.get_base_velocity()\n",
    "    t = drake_instance.get_simulation_time()\n",
    "\n",
    "    # Update TSID\n",
    "    TSID_controller_instance.set_state_with_base(s=s, s_dot=ds, H_b=H_b, w_b=w_b, t=t)\n",
    "\n",
    "    # MPC plan \n",
    "    if counter == 0:\n",
    "        mpc.set_state_with_base(s=s, s_dot=ds, H_b=H_b, w_b=w_b, t=t)\n",
    "        mpc.update_references()\n",
    "        mpc_success = mpc.plan_trajectory()\n",
    "        mpc.contact_planner.advance_swing_foot_planner()\n",
    "        if not (mpc_success):\n",
    "            logging.error(\"MPC failed\")\n",
    "            break\n",
    "\n",
    "    # Reading new references\n",
    "    com, dcom, forces_left, forces_right = mpc.get_references()\n",
    "    left_foot, right_foot = mpc.contact_planner.get_references_swing_foot_planner()\n",
    "\n",
    "    # Update references TSID \n",
    "    TSID_controller_instance.update_task_references_mpc(\n",
    "        com=com,\n",
    "        dcom=dcom,\n",
    "        ddcom=np.zeros(3),\n",
    "        left_foot_desired=left_foot,\n",
    "        right_foot_desired=right_foot,\n",
    "        s_desired=np.array(s_des),\n",
    "        wrenches_left=forces_left,\n",
    "        wrenches_right=forces_right,\n",
    "    )\n",
    "\n",
    "    # Run control \n",
    "    succeded_controller = TSID_controller_instance.run()\n",
    "\n",
    "    if not (succeded_controller):\n",
    "        logging.error(\"Controller failed\")\n",
    "        break\n",
    "\n",
    "    tau = TSID_controller_instance.get_torque()\n",
    "\n",
    "    # Step the simulator\n",
    "    drake_instance.set_input(tau)\n",
    "    # drake_instance.step_with_motors(n_step=n_step, torque=tau)\n",
    "    try:\n",
    "        drake_instance.step(n_step=n_step)\n",
    "    except RuntimeError as e:\n",
    "        logging.error(e)\n",
    "        break\n",
    "    counter = counter + 1\n",
    "\n",
    "    if counter == n_step_mpc_tsid:\n",
    "        counter = 0\n",
    "if  drake_instance.visualize_robot_flag:\n",
    "    drake_instance.meshcat.StopRecording()\n",
    "    drake_instance.meshcat.PublishRecording()"
   ]
  },
  {
   "cell_type": "code",
   "execution_count": 12,
   "metadata": {},
   "outputs": [
    {
     "name": "stderr",
     "output_type": "stream",
     "text": [
      "INFO:root:Drake uses meshcat for visualization. Close browser tab to close             the visualisation.\n",
      "ERROR:root:Drake simulator reset not implemented, recreate drake_instance\n"
     ]
    }
   ],
   "source": [
    "# Closing visualization\n",
    "drake_instance.close_visualization()"
   ]
  },
  {
   "cell_type": "code",
   "execution_count": null,
   "metadata": {},
   "outputs": [],
   "source": []
  }
 ],
 "metadata": {
  "kernelspec": {
   "display_name": "walk",
   "language": "python",
   "name": "python3"
  },
  "language_info": {
   "codemirror_mode": {
    "name": "ipython",
    "version": 3
   },
   "file_extension": ".py",
   "mimetype": "text/x-python",
   "name": "python",
   "nbconvert_exporter": "python",
   "pygments_lexer": "ipython3",
   "version": "3.10.13"
  }
 },
 "nbformat": 4,
 "nbformat_minor": 2
}
