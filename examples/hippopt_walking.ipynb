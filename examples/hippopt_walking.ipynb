{
 "cells": [
  {
   "cell_type": "markdown",
   "metadata": {},
   "source": [
    "## Hippopt planner\n",
    "This example, load a basic robot model (i.e. composed only of basic shapes), modifies the links of such a robot model by elongating the legs, plans a forward walking trajecotry using Hippopt walking planner  "
   ]
  },
  {
   "cell_type": "code",
   "execution_count": null,
   "metadata": {},
   "outputs": [],
   "source": [
    "# Comodo import\n",
    "from comodo.robotModel.robotModel import RobotModel\n",
    "from comodo.robotModel.createUrdf import createUrdf\n",
    "from comodo.hippoptWalkingPlanner.hippoptWalkingPlanner  import HippoptWalkingPlanner\n",
    "from comodo.hippoptWalkingPlanner.hippoptWalkingPlannerParameterTuning import HippoptWalkingParameterTuning"
   ]
  },
  {
   "cell_type": "code",
   "execution_count": null,
   "metadata": {},
   "outputs": [],
   "source": [
    "# General  import \n",
    "import xml.etree.ElementTree as ET\n",
    "import numpy as np\n",
    "import tempfile\n",
    "import urllib.request"
   ]
  },
  {
   "cell_type": "code",
   "execution_count": null,
   "metadata": {},
   "outputs": [],
   "source": [
    "# Getting stickbot urdf file and convert it to string \n",
    "urdf_robot_file = tempfile.NamedTemporaryFile(mode=\"w+\")\n",
    "url = 'https://raw.githubusercontent.com/icub-tech-iit/ergocub-gazebo-simulations/master/models/stickBot/model.urdf'\n",
    "urllib.request.urlretrieve(url, urdf_robot_file.name)\n",
    "# Load the URDF file\n",
    "tree = ET.parse(urdf_robot_file.name)\n",
    "root = tree.getroot()\n",
    "\n",
    "# Convert the XML tree to a string\n",
    "robot_urdf_string_original = ET.tostring(root)\n",
    "\n",
    "create_urdf_instance = createUrdf(\n",
    "    original_urdf_path=urdf_robot_file.name, save_gazebo_plugin=False\n",
    ")"
   ]
  },
  {
   "cell_type": "code",
   "execution_count": null,
   "metadata": {},
   "outputs": [],
   "source": [
    "# Define parametric links and controlled joints  \n",
    "legs_link_names = [\"hip_3\", \"lower_leg\"]\n",
    "joint_name_list = [\n",
    "    \"l_shoulder_pitch\",\n",
    "    \"l_shoulder_roll\",\n",
    "    \"l_shoulder_yaw\",\n",
    "    \"l_elbow\",\n",
    "    \"r_shoulder_pitch\",\n",
    "    \"r_shoulder_roll\",\n",
    "    \"r_shoulder_yaw\",\n",
    "    \"r_elbow\",\n",
    "    \"l_hip_pitch\",\n",
    "    \"l_hip_roll\",\n",
    "    \"l_hip_yaw\",\n",
    "    \"l_knee\",\n",
    "    \"l_ankle_pitch\",\n",
    "    \"l_ankle_roll\",\n",
    "    \"r_hip_pitch\",\n",
    "    \"r_hip_roll\",\n",
    "    \"r_hip_yaw\",\n",
    "    \"r_knee\",\n",
    "    \"r_ankle_pitch\",\n",
    "    \"r_ankle_roll\",\n",
    "]"
   ]
  },
  {
   "cell_type": "code",
   "execution_count": null,
   "metadata": {},
   "outputs": [],
   "source": [
    "# Define the robot modifications\n",
    "modifications = {}\n",
    "for item in legs_link_names:\n",
    "    left_leg_item = \"l_\" + item\n",
    "    right_leg_item = \"r_\" + item\n",
    "    modifications.update({left_leg_item: 1.2})\n",
    "    modifications.update({right_leg_item: 1.2})\n",
    "# Motors Parameters \n",
    "Im_arms = 1e-3*np.ones(4) # from 0-4\n",
    "Im_legs = 1e-3*np.ones(6) # from 5-10\n",
    "kv_arms = 0.001*np.ones(4) # from 11-14\n",
    "kv_legs = 0.001*np.ones(6) #from 20\n",
    "\n",
    "Im = np.concatenate((Im_arms, Im_arms, Im_legs, Im_legs))\n",
    "kv = np.concatenate((kv_arms, kv_arms, kv_legs, kv_legs))"
   ]
  },
  {
   "cell_type": "code",
   "execution_count": null,
   "metadata": {},
   "outputs": [],
   "source": [
    "# Modify the robot model and initialize\n",
    "create_urdf_instance.modify_lengths(modifications)\n",
    "urdf_robot_string = create_urdf_instance.write_urdf_to_file()\n",
    "create_urdf_instance.reset_modifications()\n",
    "robot_model_init = RobotModel(urdf_robot_string, \"stickBot\", joint_name_list)\n",
    "s_des, xyz_rpy, H_b = robot_model_init.compute_desired_position_walking()\n",
    "robot_model_init.set_initial_position(s_init=s_des, w_H_b_init=H_b, xyz_rpy_init=xyz_rpy)\n",
    "robot_model_init.set_foot_corner(np.asarray([0.1, 0.05, 0.0]),np.asarray([0.1, -0.05, 0.0]),np.asarray([-0.1, -0.05, 0.0]),np.asarray([-0.1, 0.05, 0.0]))"
   ]
  },
  {
   "cell_type": "code",
   "execution_count": null,
   "metadata": {},
   "outputs": [],
   "source": [
    "hippopt_planner = HippoptWalkingPlanner(robot_model_init)\n",
    "hippopt_parameters = HippoptWalkingParameterTuning()\n",
    "hippopt_parameters.step_length = 1.0\n",
    "hippopt_planner.initialize_planner(hippopt_parameters)\n",
    "hippopt_planner.visualizer_init()\n",
    "hippopt_planner.visualize_state(hippopt_planner.guess)"
   ]
  },
  {
   "cell_type": "code",
   "execution_count": null,
   "metadata": {},
   "outputs": [],
   "source": [
    "hippopt_planner.plan_trajectory()\n",
    "hippopt_planner.visualize_state(hippopt_planner.humanoid_states)"
   ]
  }
 ],
 "metadata": {
  "kernelspec": {
   "display_name": "comododev",
   "language": "python",
   "name": "python3"
  },
  "language_info": {
   "codemirror_mode": {
    "name": "ipython",
    "version": 3
   },
   "file_extension": ".py",
   "mimetype": "text/x-python",
   "name": "python",
   "nbconvert_exporter": "python",
   "pygments_lexer": "ipython3",
   "version": "3.10.14"
  }
 },
 "nbformat": 4,
 "nbformat_minor": 2
}
