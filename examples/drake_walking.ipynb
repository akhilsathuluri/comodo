{
 "cells": [
  {
   "cell_type": "markdown",
   "metadata": {},
   "source": [
    "## Comodo Exmaple \n",
    "This examples, load a basic robot model (i.e. composed only of basic shapes), modifies the links of such a robot model by elongating the legs, define instances of the TSID (Task Based Inverse Dynamics) and Centroidal MPC  controller and simulate the behavior of the robot using drake.  "
   ]
  },
  {
   "cell_type": "code",
   "execution_count": 28,
   "metadata": {},
   "outputs": [],
   "source": [
    "# Comodo import\n",
    "# from comodo.mujocoSimulator.mujocoSimulator import MujocoSimulator\n",
    "# from comodo.drakeSimulator.drakeSimulator import DrakeSimulator\n",
    "# from comodo.robotModel.robotModel import RobotModel\n",
    "# from comodo.robotModel.createUrdf import createUrdf\n",
    "# from comodo.centroidalMPC.centroidalMPC import CentroidalMPC\n",
    "# from comodo.centroidalMPC.mpcParameterTuning import MPCParameterTuning\n",
    "# from comodo.TSIDController.TSIDParameterTuning import TSIDParameterTuning\n",
    "# from comodo.TSIDController.TSIDController import TSIDController\n",
    "\n",
    "# ABSOLUTE IMPORTS FOR TESTING FAST\n",
    "%load_ext autoreload\n",
    "%autoreload 2\n",
    "\n",
    "import sys\n",
    "sys.path.append('/home/laniakea/git/odio_urdf/')\n",
    "from odio_urdf import *\n",
    "\n",
    "sys.path.append('../src')\n",
    "from comodo.mujocoSimulator.mujocoSimulator import MujocoSimulator\n",
    "from comodo.drakeSimulator.drakeSimulator import DrakeSimulator\n",
    "from comodo.robotModel.robotModel import RobotModel\n",
    "from comodo.robotModel.createUrdf import createUrdf\n",
    "from comodo.centroidalMPC.centroidalMPC import CentroidalMPC\n",
    "from comodo.centroidalMPC.mpcParameterTuning import MPCParameterTuning\n",
    "from comodo.TSIDController.TSIDParameterTuning import TSIDParameterTuning\n",
    "from comodo.TSIDController.TSIDController import TSIDController"
   ]
  },
  {
   "cell_type": "code",
   "execution_count": 29,
   "metadata": {},
   "outputs": [],
   "source": [
    "# General  import \n",
    "import xml.etree.ElementTree as ET\n",
    "import numpy as np\n",
    "import tempfile\n",
    "import urllib.request\n",
    "import logging"
   ]
  },
  {
   "cell_type": "code",
   "execution_count": 30,
   "metadata": {},
   "outputs": [],
   "source": [
    "# imports for visualisation\n",
    "# from pydrake.all import StartMeshcat\n",
    "# meshcat = StartMeshcat()"
   ]
  },
  {
   "cell_type": "code",
   "execution_count": 31,
   "metadata": {},
   "outputs": [],
   "source": [
    "# Getting stickbot urdf file and convert it to string \n",
    "urdf_robot_file = tempfile.NamedTemporaryFile(mode=\"w+\")\n",
    "url = 'https://raw.githubusercontent.com/icub-tech-iit/ergocub-gazebo-simulations/master/models/stickBot/model.urdf'\n",
    "urllib.request.urlretrieve(url, urdf_robot_file.name)\n",
    "# Load the URDF file\n",
    "tree = ET.parse(urdf_robot_file.name)\n",
    "root = tree.getroot()\n",
    "\n",
    "# Convert the XML tree to a string\n",
    "robot_urdf_string_original = ET.tostring(root)\n",
    "\n",
    "create_urdf_instance = createUrdf(\n",
    "    original_urdf_path=urdf_robot_file.name, save_gazebo_plugin=False\n",
    ")"
   ]
  },
  {
   "cell_type": "code",
   "execution_count": 32,
   "metadata": {},
   "outputs": [],
   "source": [
    "# Define parametric links and controlled joints  \n",
    "legs_link_names = [\"hip_3\", \"lower_leg\"]\n",
    "joint_name_list = [\n",
    "    \"r_shoulder_pitch\",\n",
    "    \"r_shoulder_roll\",\n",
    "    \"r_shoulder_yaw\",\n",
    "    \"r_elbow\",\n",
    "    \"l_shoulder_pitch\",\n",
    "    \"l_shoulder_roll\",\n",
    "    \"l_shoulder_yaw\",\n",
    "    \"l_elbow\",\n",
    "    \"r_hip_pitch\",\n",
    "    \"r_hip_roll\",\n",
    "    \"r_hip_yaw\",\n",
    "    \"r_knee\",\n",
    "    \"r_ankle_pitch\",\n",
    "    \"r_ankle_roll\",\n",
    "    \"l_hip_pitch\",\n",
    "    \"l_hip_roll\",\n",
    "    \"l_hip_yaw\",\n",
    "    \"l_knee\",\n",
    "    \"l_ankle_pitch\",\n",
    "    \"l_ankle_roll\",\n",
    "]"
   ]
  },
  {
   "cell_type": "code",
   "execution_count": 33,
   "metadata": {},
   "outputs": [],
   "source": [
    "# Define the robot modifications\n",
    "modifications = {}\n",
    "for item in legs_link_names:\n",
    "    left_leg_item = \"l_\" + item\n",
    "    right_leg_item = \"r_\" + item\n",
    "    modifications.update({left_leg_item: 1.2})\n",
    "    modifications.update({right_leg_item: 1.2})\n",
    "# Motors Parameters \n",
    "Im_arms = 1e-3*np.ones(4) # from 0-4\n",
    "Im_legs = 1e-3*np.ones(6) # from 5-10\n",
    "kv_arms = 0.001*np.ones(4) # from 11-14\n",
    "kv_legs = 0.001*np.ones(6) #from 20\n",
    "\n",
    "Im = np.concatenate((Im_arms, Im_arms, Im_legs, Im_legs))\n",
    "kv = np.concatenate((kv_arms, kv_arms, kv_legs, kv_legs))"
   ]
  },
  {
   "cell_type": "code",
   "execution_count": 34,
   "metadata": {},
   "outputs": [
    {
     "name": "stderr",
     "output_type": "stream",
     "text": [
      "Unknown tag \"sensor\" in /robot[@name='stickBot']\n",
      "Unknown tag \"sensor\" in /robot[@name='stickBot']\n",
      "Unknown tag \"sensor\" in /robot[@name='stickBot']\n",
      "Unknown tag \"sensor\" in /robot[@name='stickBot']\n",
      "Unknown tag \"sensor\" in /robot[@name='stickBot']\n",
      "Unknown tag \"sensor\" in /robot[@name='stickBot']\n",
      "Unknown tag \"sensor\" in /robot[@name='stickBot']\n",
      "Unknown tag \"sensor\" in /robot[@name='stickBot']\n",
      "Unknown tag \"sensor\" in /robot[@name='stickBot']\n",
      "Unknown tag \"sensor\" in /robot[@name='stickBot']\n"
     ]
    }
   ],
   "source": [
    "# Modify the robot model and initialize\n",
    "create_urdf_instance.modify_lengths(modifications)\n",
    "urdf_robot_string = create_urdf_instance.write_urdf_to_file()\n",
    "create_urdf_instance.reset_modifications()\n",
    "robot_model_init = RobotModel(urdf_robot_string, \"stickBot\", joint_name_list)\n",
    "s_des, xyz_rpy, H_b = robot_model_init.compute_desired_position_walking()"
   ]
  },
  {
   "cell_type": "code",
   "execution_count": 35,
   "metadata": {},
   "outputs": [
    {
     "name": "stderr",
     "output_type": "stream",
     "text": [
      "INFO:drake:Meshcat listening for connections at http://localhost:7001\n"
     ]
    }
   ],
   "source": [
    "# Define simulator and initial position\n",
    "drake_instance = DrakeSimulator()\n",
    "drake_instance.set_visualize_robot_flag(True)\n",
    "drake_instance.load_model(robot_model_init, s=s_des, xyz_rpy=xyz_rpy, kv_motors=kv, Im=Im)\n",
    "s, ds, tau = drake_instance.get_state()\n",
    "t = drake_instance.get_simulation_time()\n",
    "H_b = drake_instance.get_base()\n",
    "# beware of the velocity ordering\n",
    "w_b = drake_instance.get_base_velocity()"
   ]
  },
  {
   "cell_type": "code",
   "execution_count": null,
   "metadata": {},
   "outputs": [],
   "source": [
    "# Define the controller parameters  and instantiate the controller\n",
    "# Controller Parameters\n",
    "tsid_parameter = TSIDParameterTuning()\n",
    "mpc_parameters = MPCParameterTuning()\n",
    "\n",
    "# TSID Instance \n",
    "TSID_controller_instance = TSIDController(frequency=0.01, robot_model=robot_model_init)\n",
    "TSID_controller_instance.define_tasks(tsid_parameter)\n",
    "TSID_controller_instance.set_state_with_base(s, ds, H_b, w_b, t)\n",
    "\n",
    "# MPC Instance\n",
    "step_lenght = 0.1\n",
    "mpc = CentroidalMPC(robot_model=robot_model_init, step_length=step_lenght)\n",
    "mpc.intialize_mpc(mpc_parameters=mpc_parameters)\n",
    "\n",
    "# Set desired quantities\n",
    "mpc.configure(s_init=s_des, H_b_init=H_b)\n",
    "TSID_controller_instance.compute_com_position()\n",
    "mpc.define_test_com_traj(TSID_controller_instance.COM.toNumPy())\n",
    "\n",
    "# TODO: Set initial robot state and plan trajectories \n",
    "# mujoco_instance.step(1)\n",
    "\n",
    "# Reading the state \n",
    "s, ds, tau = drake_instance.get_state()\n",
    "H_b = drake_instance.get_base()\n",
    "w_b = drake_instance.get_base_velocity()\n",
    "t = drake_instance.get_simulation_time()\n",
    "\n",
    "# MPC\n",
    "mpc.set_state_with_base(s=s, s_dot=ds, H_b=H_b, w_b=w_b, t=t)\n",
    "mpc.initialize_centroidal_integrator(s=s, s_dot=ds, H_b=H_b, w_b=w_b, t=t)\n",
    "mpc_output = mpc.plan_trajectory()"
   ]
  },
  {
   "cell_type": "code",
   "execution_count": null,
   "metadata": {},
   "outputs": [],
   "source": [
    "# set the logging level\n",
    "logging.getLogger().setLevel(logging.INFO)"
   ]
  },
  {
   "cell_type": "code",
   "execution_count": null,
   "metadata": {},
   "outputs": [],
   "source": [
    "# %autoreload 2\n",
    "\n",
    "# from comodo.drakeSimulator.utils import DrakeURDFHelper\n",
    "# urdf_string = robot_model_init.urdf_string\n",
    "# duh = DrakeURDFHelper()\n",
    "# duh.load_urdf(urdf_string=urdf_string)\n",
    "# duh.remove_all_collisions()\n",
    "# duh.fix_not_in_joint_list(robot_model_init.joint_name_list)\n",
    "# duh.convert_xml_to_odio()\n",
    "# duh.add_acutation_tags()\n",
    "# # duh.odio_robot\n",
    "\n",
    "# from pydrake.all import *\n",
    "# builder = DiagramBuilder()\n",
    "# time_step = 1e-3\n",
    "# plant, scene_graph = AddMultibodyPlantSceneGraph(builder, time_step=time_step)\n",
    "# parser = Parser(plant, scene_graph)\n",
    "# robot_model_sim = parser.AddModels(\n",
    "#             file_contents=str(duh.odio_robot),\n",
    "#             file_type=\"urdf\",\n",
    "#         )[0]\n",
    "# plant.Finalize()\n",
    "# plant.set_name(\"plant\")\n",
    "\n",
    "# builder.ExportInput(plant.get_actuation_input_port(), \"control_input\")\n",
    "# builder.ExportOutput(plant.get_state_output_port(), \"state_output\")\n",
    "\n",
    "# diagram = builder.Build()\n",
    "# simulator = Simulator(diagram)\n",
    "\n",
    "# system = simulator.get_system()\n",
    "# state_output_port = system.GetOutputPort(\"state_output\")\n",
    "# control_input_port = system.GetInputPort(\"control_input\")\n",
    "\n",
    "# context = simulator.get_mutable_context()\n",
    "# context.SetTime(0)\n",
    "# simulator.Initialize()\n",
    "\n",
    "# simulator.get_system().SetDefaultContext(context)\n",
    "\n",
    "# diagram = simulator.get_system()\n",
    "# plant = diagram.GetSubsystemByName(\"plant\")\n",
    "# plant_context = diagram.GetMutableSubsystemContext(plant, context)\n"
   ]
  }
 ],
 "metadata": {
  "kernelspec": {
   "display_name": "walk",
   "language": "python",
   "name": "python3"
  },
  "language_info": {
   "codemirror_mode": {
    "name": "ipython",
    "version": 3
   },
   "file_extension": ".py",
   "mimetype": "text/x-python",
   "name": "python",
   "nbconvert_exporter": "python",
   "pygments_lexer": "ipython3",
   "version": "3.10.13"
  }
 },
 "nbformat": 4,
 "nbformat_minor": 2
}
